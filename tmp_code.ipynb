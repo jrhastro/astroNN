{
 "cells": [
  {
   "cell_type": "code",
   "execution_count": null,
   "metadata": {
    "collapsed": true
   },
   "outputs": [],
   "source": [
    "# Keep track of validation score\n",
    "score = []\n",
    "epoch = []\n",
    "\n",
    "# Train the network ONE TIME\n",
    "model = tflearn.DNN(network,\n",
    "                    tensorboard_verbose=2,\n",
    "                    tensorboard_dir='/internal/data1/tensorflow/logs/',\n",
    "                    checkpoint_path='/internal/data1/tensorflow/checkpoints_viz/'\n",
    "                   )\n",
    "\n",
    "model.fit(\n",
    "    {'input': train_dataset}, {'target': train_labels}, \n",
    "    n_epoch=1,\n",
    "    snapshot_epoch=True,\n",
    "    validation_set=({'input': test_dataset}, {'target': test_labels}),\n",
    "    snapshot_step=200, \n",
    "    show_metric=True, \n",
    "    run_id='WL_basic_with_chkpts_viz')\n",
    "\n",
    "model.save('model_WL_basic_with_chkpts_viz')\n",
    "\n",
    "tmpscore = model.evaluate(valid_dataset, valid_labels)\n",
    "print('Validation set accuracy: %0.4f%%' % (tmpscore[0] * 100))\n",
    "score.append(tmpscore[0])\n",
    "epoch.append(1)"
   ]
  },
  {
   "cell_type": "code",
   "execution_count": null,
   "metadata": {
    "collapsed": true
   },
   "outputs": [],
   "source": [
    "# Make the first visualization\n",
    "#acc_grid = np.zeros(64)\n",
    "#acc_image = np.zeros((256,256))\n",
    "\n",
    "#valid_prediction_results = np.array(model.predict(valid_dataset[test_grid[1]]))\n",
    "#print(\"valid prediction results\", valid_prediction_results)\n",
    "\n",
    "#acc_grid[0] = accuracy(valid_prediction_results, valid_labels[test_grid[1]])/100.0\n",
    "#print(\"acc_grid\",acc_grid[1])\n",
    "\n",
    "#acc_image = make_acc_image(acc_grid)"
   ]
  },
  {
   "cell_type": "code",
   "execution_count": null,
   "metadata": {
    "collapsed": true
   },
   "outputs": [],
   "source": [
    "# Make the first visualization\n",
    "acc_grid = np.zeros(64)\n",
    "acc_image = np.zeros((256,256))\n",
    "\n",
    "# Setup a grid of 64 accuracy values based on the 8 images in the default (central) positions.\n",
    "# The accuracy is the fraction of the 8 images that have P > 0.5.\n",
    "for i in range(len(acc_grid)):\n",
    "    #acc_grid[i] = accuracy(test_prediction_results[test_grid[i]], test_labels[test_grid[i]])/100.0\n",
    "    valid_prediction_results = np.array(model.predict(valid_dataset[test_grid[i]]))\n",
    "    acc_grid[i] = accuracy(valid_prediction_results, valid_labels[test_grid[i]])/100.0\n",
    "acc_image = make_acc_image(acc_grid)\n",
    "            \n",
    "# Next add in one of the nearby grid points\n",
    "for gridpt in range(64,2465):\n",
    "    #gridpt = 67\n",
    "    valid_prediction_results = np.array(model.predict(valid_dataset[test_grid[i]]))\n",
    "    acc_val = accuracy(valid_prediction_results, test_labels[test_grid[gridpt]])/100.0\n",
    "    xycen = []\n",
    "    xycen.append(x_centers[8,:,0][np.arange(gridpt*8,gridpt*8+8)][0])\n",
    "    xycen.append(y_centers[8,:,0][np.arange(gridpt*8,gridpt*8+8)][0])\n",
    "    acc_image = add_acc_image(acc_image, acc_val, xycen)\n",
    "accmean = np.mean(acc_image)\n",
    "accmeanstr = '%.2f' % accmean\n",
    "\n",
    "\n",
    "fig = plt.figure(figsize=(24,24))\n",
    "#ax1 = plt.subplot2grid((2,2),(0,0),colspan=2)\n",
    "ax2 = plt.subplot2grid((2,2),(1,0))\n",
    "#ax3 = plt.subplot2grid((2,2),(1,1))\n",
    "\n",
    "# Plot the accuracy grid\n",
    "major_ticks = np.arange(0+32, 256, 32)                                              \n",
    "minor_ticks = np.arange(0+32, 256, 32)                                               \n",
    "\n",
    "#fig = plt.figure(figsize=(12, 6))\n",
    "#sub1 = plt.subplot(1, 2, 1)\n",
    "ax2.set_xticks(major_ticks)\n",
    "ax2.set_xticks(minor_ticks, minor=True)\n",
    "ax2.set_yticks(major_ticks)\n",
    "ax2.set_yticks(minor_ticks, minor=True)\n",
    "ax2.set_aspect('equal')\n",
    "ax2.tick_params(labelsize=14)\n",
    "ax2.grid(True, color='w',linewidth=3,linestyle=\"--\",alpha=0.75)\n",
    "#ax2.set_title(\"Avg fraction: \"+accmeanstr+\"  CNN Accuracy: \"+acc_test_str+\"%  i = \"+str(step),loc='right',size=20)\n",
    "im2 = ax2.imshow(acc_image, origin='lower',vmin = 0, vmax = 1.0)\n",
    "divider2 = make_axes_locatable(ax2)\n",
    "extent = ax2.get_window_extent().transformed(fig.dpi_scale_trans.inverted())\n",
    "fig.savefig('/internal/data1/tensorflow/images/WL_basic_with_chkpts_viz/'+saveoutname, bbox_inches=extent.expanded(1.2,1.2))\n",
    "cim2 = divider2.append_axes(\"right\", size=\"20%\", pad=0.5)\n",
    "cbar2 = plt.colorbar(im2, cax=cim2, ticks=MultipleLocator(0.2), format=\"%.2f\")\n",
    "\n",
    "            \n",
    "display.clear_output(wait=True)\n",
    "display.display(plt.gcf())\n",
    " "
   ]
  },
  {
   "cell_type": "code",
   "execution_count": null,
   "metadata": {
    "collapsed": true
   },
   "outputs": [],
   "source": [
    "    # Grid visualization\n",
    "    # Setup a grid of 64 accuracy values based on the 8 images in the default (central) positions.\n",
    "    # The accuracy is the fraction of the 8 images that have P > 0.5.\n",
    "    for i in range(len(acc_grid)):\n",
    "        #acc_grid[i] = accuracy(test_prediction_results[test_grid[i]], test_labels[test_grid[i]])/100.0\n",
    "        valid_prediction_results = np.array(model.predict(valid_dataset[test_grid[i]]))\n",
    "        acc_grid[i] = accuracy(valid_prediction_results, valid_labels[test_grid[i]])/100.0\n",
    "    acc_image = make_acc_image(acc_grid)\n",
    " "
   ]
  },
  {
   "cell_type": "code",
   "execution_count": null,
   "metadata": {
    "collapsed": true
   },
   "outputs": [],
   "source": [
    "        \n",
    "    # Setup output file names\n",
    "    #if iterations < 10:\n",
    "    #    saveoutname = \"0000\"+str(iterations)+\".png\"  # 00001.png\n",
    "    #elif (iterations >= 10 and iterations < 100):\n",
    "    #    saveoutname = \"000\"+str(iterations)+\".png\"   # 00010.png\n",
    "    #elif (iterations >= 100 and iterations < 1000):\n",
    "    #    saveoutname = \"00\"+str(q)+\".png\"    # 00100.png\n",
    "    #elif (iterations >= 1000 and iterations < 10000):\n",
    "    #    saveoutname = \"0\"+str(iterations)+\".png\"     # 01000.png\n",
    "    #else:\n",
    "    #    saveoutname = \"\"+str(iterations)+\".png\"      # 10000.png\n"
   ]
  }
 ],
 "metadata": {
  "kernelspec": {
   "display_name": "Python [Root]",
   "language": "python",
   "name": "Python [Root]"
  },
  "language_info": {
   "codemirror_mode": {
    "name": "ipython",
    "version": 2
   },
   "file_extension": ".py",
   "mimetype": "text/x-python",
   "name": "python",
   "nbconvert_exporter": "python",
   "pygments_lexer": "ipython2",
   "version": "2.7.12"
  }
 },
 "nbformat": 4,
 "nbformat_minor": 0
}
